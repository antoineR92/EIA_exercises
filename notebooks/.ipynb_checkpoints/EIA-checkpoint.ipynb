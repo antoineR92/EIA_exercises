{
 "cells": [
  {
   "cell_type": "markdown",
   "metadata": {},
   "source": [
    "## Session 5"
   ]
  },
  {
   "cell_type": "markdown",
   "metadata": {},
   "source": [
    "HD 149757 L = 91 000 L⊙\n",
    "HD 102870 F = 8 · 107 W m−2 ; R = 1.68 R⊙\n",
    "HD 58350 Teff = 15 000 K; R = 56.3 R⊙\n",
    "HD 172167 M = 2.14 M⊙\n",
    "HD 35468 Teff = 32 800 K; R = 5.4 R⊙\n",
    "HD 101501 M = 0.85 M⊙"
   ]
  },
  {
   "cell_type": "code",
   "execution_count": 2,
   "metadata": {
    "collapsed": true
   },
   "outputs": [],
   "source": [
    "import math"
   ]
  },
  {
   "cell_type": "code",
   "execution_count": 6,
   "metadata": {
    "collapsed": false
   },
   "outputs": [],
   "source": [
    "sigma = 5.670374419*10**(-8)"
   ]
  },
  {
   "cell_type": "code",
   "execution_count": 10,
   "metadata": {
    "collapsed": true
   },
   "outputs": [],
   "source": [
    "def getTime(L=None,M=None):\n",
    "    Lsun = 1\n",
    "    Msun = 1\n",
    "    \n",
    "    if L==None:\n",
    "        return (10**10)*(Msun/M)**(2.5)\n",
    "    if M==None:\n",
    "         return (10**10)*(Lsun/L)**(5/7)\n",
    "        \n",
    "def getLuminosity(F=None,Teff=None,R=None):\n",
    "    sigma = 5.670374419*10**(-8)\n",
    "    if Teff==None:\n",
    "        return 4*math.pi*R**2*F\n",
    "    if F==None:\n",
    "        return  4*math.pi*R**2 *sigma*Teff"
   ]
  },
  {
   "cell_type": "code",
   "execution_count": 18,
   "metadata": {
    "collapsed": false
   },
   "outputs": [
    {
     "name": "stdout",
     "output_type": "stream",
     "text": [
      "2.869641e+06 years HD 149757\n",
      "1.492676e+09 years HD 172167\n",
      "1.501249e+10 years HD 172167\n",
      "1.769764e+08 years HD 102870\n"
     ]
    }
   ],
   "source": [
    "#DATA [L,M,F,T,R]\n",
    "\n",
    "print(\"{:e}\".format(getTime(L=91000)),'years HD 149757')\n",
    "print(\"{:e}\".format(getTime(M=2.14)),'years HD 172167')\n",
    "print(\"{:e}\".format(getTime(M=0.85)),'years HD 172167')\n",
    "#HD 102870 F = 8 · 107 W m−2 ; R = 1.68 R⊙\n",
    "L=getLuminosity(F=8,R=1.68)\n",
    "print(\"{:e}\".format(getTime(L=L)),'years HD 102870')\n"
   ]
  },
  {
   "cell_type": "code",
   "execution_count": null,
   "metadata": {
    "collapsed": true
   },
   "outputs": [],
   "source": []
  },
  {
   "cell_type": "code",
   "execution_count": null,
   "metadata": {
    "collapsed": true
   },
   "outputs": [],
   "source": []
  }
 ],
 "metadata": {
  "anaconda-cloud": {},
  "kernelspec": {
   "display_name": "Python [conda env:Anaconda3_64]",
   "language": "python",
   "name": "conda-env-Anaconda3_64-py"
  },
  "language_info": {
   "codemirror_mode": {
    "name": "ipython",
    "version": 3
   },
   "file_extension": ".py",
   "mimetype": "text/x-python",
   "name": "python",
   "nbconvert_exporter": "python",
   "pygments_lexer": "ipython3",
   "version": "3.5.6"
  }
 },
 "nbformat": 4,
 "nbformat_minor": 1
}
