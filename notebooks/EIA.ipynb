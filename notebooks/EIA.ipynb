{
 "cells": [
  {
   "cell_type": "markdown",
   "metadata": {},
   "source": [
    "## Session 5"
   ]
  },
  {
   "cell_type": "markdown",
   "metadata": {},
   "source": [
    "HD 149757 L = 91 000 L⊙\n",
    "HD 102870 F = 8 · 107 W m−2 ; R = 1.68 R⊙\n",
    "HD 58350 Teff = 15 000 K; R = 56.3 R⊙\n",
    "HD 172167 M = 2.14 M⊙\n",
    "HD 35468 Teff = 32 800 K; R = 5.4 R⊙\n",
    "HD 101501 M = 0.85 M⊙"
   ]
  },
  {
   "cell_type": "code",
   "execution_count": 2,
   "metadata": {},
   "outputs": [],
   "source": [
    "import math"
   ]
  },
  {
   "cell_type": "code",
   "execution_count": 3,
   "metadata": {},
   "outputs": [],
   "source": [
    "sigma = 5.670374419*10**(-8)"
   ]
  },
  {
   "cell_type": "code",
   "execution_count": 49,
   "metadata": {},
   "outputs": [],
   "source": [
    "def getTime(L=None,M=None):\n",
    "    Lsun = 1.\n",
    "    Msun = 1.\n",
    "    \n",
    "    if L==None:\n",
    "        return (10**10)*(Msun/M)**(2.5)\n",
    "    if M==None:\n",
    "         return (10**10)*(Lsun/L)**(5./7)\n",
    "        \n",
    "def getLuminosity(F=None,Teff=None,R=None):\n",
    "    sigma = 5.670374419*10**(-8)\n",
    "    R*=696340000\n",
    "    Lref =3.846e26\n",
    "    if Teff==None:\n",
    "        return 4*math.pi*(R**2)*F/Lref\n",
    "    if F==None:\n",
    "        return  4*math.pi*(R**2)*sigma/Lref*Teff**4"
   ]
  },
  {
   "cell_type": "code",
   "execution_count": 51,
   "metadata": {},
   "outputs": [
    {
     "name": "stdout",
     "output_type": "stream",
     "text": [
      "('2.869641e+06', 'years HD 149757')\n",
      "('1.492676e+09', 'years HD 172167')\n",
      "('1.501249e+10', 'years HD 101501')\n",
      "('4.023517e+09', 'years HD 102870', 3.577270827356601)\n",
      "('2.065934e+06', 'HD 58350', '1.441574e+05')\n",
      "('6.291564e+06', 'HD 35468', '3.032061e+04')\n"
     ]
    }
   ],
   "source": [
    "#DATA [L,M,F,T,R]\n",
    "\n",
    "print(\"{:e}\".format(getTime(L=91000)),'years HD 149757')\n",
    "print(\"{:e}\".format(getTime(M=2.14)),'years HD 172167')\n",
    "print(\"{:e}\".format(getTime(M=0.85)),'years HD 101501')\n",
    "#HD 102870 F = 8 · 107 W m−2 ; R = 1.68 R⊙\n",
    "L=getLuminosity(F=8e7,R=1.68)\n",
    "print(\"{:e}\".format(getTime(L=L)),'years HD 102870',L)\n",
    "\n",
    "L=getLuminosity(Teff=15000,R=56.3)\n",
    "print(\"{:e}\".format(getTime(L=L)),'HD 58350',\"{:e}\".format(L))\n",
    "\n",
    "L=getLuminosity(Teff=32800,R=5.4)\n",
    "print(\"{:e}\".format(getTime(L=L)),'HD 35468',\"{:e}\".format(L))"
   ]
  },
  {
   "cell_type": "code",
   "execution_count": 39,
   "metadata": {},
   "outputs": [
    {
     "data": {
      "text/plain": [
       "177306221.41559726"
      ]
     },
     "execution_count": 39,
     "metadata": {},
     "output_type": "execute_result"
    }
   ],
   "source": [
    "(10**10)*(1./283)**(5./7)"
   ]
  },
  {
   "cell_type": "code",
   "execution_count": 27,
   "metadata": {},
   "outputs": [
    {
     "name": "stdout",
     "output_type": "stream",
     "text": [
      "1.000000e+10\n"
     ]
    }
   ],
   "source": [
    "print(\"{:e}\".format(getTime(L=50)))"
   ]
  },
  {
   "cell_type": "code",
   "execution_count": 32,
   "metadata": {},
   "outputs": [
    {
     "data": {
      "text/plain": [
       "0.004003100737421783"
      ]
     },
     "execution_count": 32,
     "metadata": {},
     "output_type": "execute_result"
    }
   ],
   "source": [
    "(1./91000)**(2.5) *10**(10)"
   ]
  },
  {
   "cell_type": "code",
   "execution_count": 33,
   "metadata": {},
   "outputs": [
    {
     "data": {
      "text/plain": [
       "10000000000"
      ]
     },
     "execution_count": 33,
     "metadata": {},
     "output_type": "execute_result"
    }
   ],
   "source": [
    "(10**10)*"
   ]
  },
  {
   "cell_type": "code",
   "execution_count": 57,
   "metadata": {},
   "outputs": [
    {
     "name": "stdout",
     "output_type": "stream",
     "text": [
      "3.162278e+07\n"
     ]
    }
   ],
   "source": [
    "print(\"{:e}\".format(getTime(M=10)))"
   ]
  },
  {
   "cell_type": "markdown",
   "metadata": {},
   "source": [
    "## Exercise 25"
   ]
  },
  {
   "cell_type": "code",
   "execution_count": 55,
   "metadata": {},
   "outputs": [],
   "source": [
    "def getMass(R0,T0):\n",
    "    R = 128000#km\n",
    "    T=1.4#days\n",
    "    \n",
    "    return ((R/R0)**3)*(T0/T)**2"
   ]
  },
  {
   "cell_type": "code",
   "execution_count": 62,
   "metadata": {},
   "outputs": [
    {
     "name": "stdout",
     "output_type": "stream",
     "text": [
      "Mass of uranus in earth masses: 13.7755102041\n"
     ]
    }
   ],
   "source": [
    "## sample\n",
    "R=42164 #km\n",
    "T=1#day\n",
    "\n",
    "muranus = getMass(R,T)\n",
    "print('Mass of uranus in earth masses: '+str(muranus))"
   ]
  },
  {
   "cell_type": "code",
   "execution_count": null,
   "metadata": {},
   "outputs": [],
   "source": []
  }
 ],
 "metadata": {
  "anaconda-cloud": {},
  "kernelspec": {
   "display_name": "envp37",
   "language": "python",
   "name": "envp37"
  },
  "language_info": {
   "codemirror_mode": {
    "name": "ipython",
    "version": 2
   },
   "file_extension": ".py",
   "mimetype": "text/x-python",
   "name": "python",
   "nbconvert_exporter": "python",
   "pygments_lexer": "ipython2",
   "version": "2.7.14"
  }
 },
 "nbformat": 4,
 "nbformat_minor": 1
}
