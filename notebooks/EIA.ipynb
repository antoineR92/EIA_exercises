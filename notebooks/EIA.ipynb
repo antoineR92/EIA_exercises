{
 "cells": [
  {
   "cell_type": "markdown",
   "metadata": {},
   "source": [
    "## Session 5"
   ]
  },
  {
   "cell_type": "markdown",
   "metadata": {},
   "source": [
    "HD 149757 L = 91 000 L⊙\n",
    "HD 102870 F = 8 · 107 W m−2 ; R = 1.68 R⊙\n",
    "HD 58350 Teff = 15 000 K; R = 56.3 R⊙\n",
    "HD 172167 M = 2.14 M⊙\n",
    "HD 35468 Teff = 32 800 K; R = 5.4 R⊙\n",
    "HD 101501 M = 0.85 M⊙"
   ]
  },
  {
   "cell_type": "code",
   "execution_count": 12,
   "metadata": {},
   "outputs": [],
   "source": [
    "import math\n",
    "import numpy as np\n",
    "import matplotlib.pyplot as plt"
   ]
  },
  {
   "cell_type": "code",
   "execution_count": 2,
   "metadata": {},
   "outputs": [],
   "source": [
    "def toSnot(f):\n",
    "    s =\"{:e}\".format(f)\n",
    "    return s"
   ]
  },
  {
   "cell_type": "code",
   "execution_count": 22,
   "metadata": {},
   "outputs": [],
   "source": [
    "#constants\n",
    "sigma = 5.670374419e-8\n",
    "kb =1.380649e-23\n",
    "Na =6.022e26 #pour 1 kg\n",
    "G = 6.67e-11"
   ]
  },
  {
   "cell_type": "markdown",
   "metadata": {},
   "source": [
    "## Exercise 23"
   ]
  },
  {
   "cell_type": "code",
   "execution_count": 49,
   "metadata": {},
   "outputs": [],
   "source": [
    "def getTime(L=None,M=None):\n",
    "    Lsun = 1.\n",
    "    Msun = 1.\n",
    "    \n",
    "    if L==None:\n",
    "        return (10**10)*(Msun/M)**(2.5)\n",
    "    if M==None:\n",
    "         return (10**10)*(Lsun/L)**(5./7)\n",
    "        \n",
    "def getLuminosity(F=None,Teff=None,R=None):\n",
    "    sigma = 5.670374419*10**(-8)\n",
    "    R*=696340000\n",
    "    Lref =3.846e26\n",
    "    if Teff==None:\n",
    "        return 4*math.pi*(R**2)*F/Lref\n",
    "    if F==None:\n",
    "        return  4*math.pi*(R**2)*sigma/Lref*Teff**4"
   ]
  },
  {
   "cell_type": "code",
   "execution_count": 51,
   "metadata": {},
   "outputs": [
    {
     "name": "stdout",
     "output_type": "stream",
     "text": [
      "('2.869641e+06', 'years HD 149757')\n",
      "('1.492676e+09', 'years HD 172167')\n",
      "('1.501249e+10', 'years HD 101501')\n",
      "('4.023517e+09', 'years HD 102870', 3.577270827356601)\n",
      "('2.065934e+06', 'HD 58350', '1.441574e+05')\n",
      "('6.291564e+06', 'HD 35468', '3.032061e+04')\n"
     ]
    }
   ],
   "source": [
    "#DATA [L,M,F,T,R]\n",
    "\n",
    "print(\"{:e}\".format(getTime(L=91000)),'years HD 149757')\n",
    "print(\"{:e}\".format(getTime(M=2.14)),'years HD 172167')\n",
    "print(\"{:e}\".format(getTime(M=0.85)),'years HD 101501')\n",
    "#HD 102870 F = 8 · 107 W m−2 ; R = 1.68 R⊙\n",
    "L=getLuminosity(F=8e7,R=1.68)\n",
    "print(\"{:e}\".format(getTime(L=L)),'years HD 102870',L)\n",
    "\n",
    "L=getLuminosity(Teff=15000,R=56.3)\n",
    "print(\"{:e}\".format(getTime(L=L)),'HD 58350',\"{:e}\".format(L))\n",
    "\n",
    "L=getLuminosity(Teff=32800,R=5.4)\n",
    "print(\"{:e}\".format(getTime(L=L)),'HD 35468',\"{:e}\".format(L))"
   ]
  },
  {
   "cell_type": "code",
   "execution_count": 39,
   "metadata": {},
   "outputs": [
    {
     "data": {
      "text/plain": [
       "177306221.41559726"
      ]
     },
     "execution_count": 39,
     "metadata": {},
     "output_type": "execute_result"
    }
   ],
   "source": [
    "(10**10)*(1./283)**(5./7)"
   ]
  },
  {
   "cell_type": "code",
   "execution_count": 27,
   "metadata": {},
   "outputs": [
    {
     "name": "stdout",
     "output_type": "stream",
     "text": [
      "1.000000e+10\n"
     ]
    }
   ],
   "source": [
    "print(\"{:e}\".format(getTime(L=50)))"
   ]
  },
  {
   "cell_type": "code",
   "execution_count": 32,
   "metadata": {},
   "outputs": [
    {
     "data": {
      "text/plain": [
       "0.004003100737421783"
      ]
     },
     "execution_count": 32,
     "metadata": {},
     "output_type": "execute_result"
    }
   ],
   "source": [
    "(1./91000)**(2.5) *10**(10)"
   ]
  },
  {
   "cell_type": "code",
   "execution_count": 33,
   "metadata": {},
   "outputs": [
    {
     "data": {
      "text/plain": [
       "10000000000"
      ]
     },
     "execution_count": 33,
     "metadata": {},
     "output_type": "execute_result"
    }
   ],
   "source": [
    "(10**10)*"
   ]
  },
  {
   "cell_type": "code",
   "execution_count": 57,
   "metadata": {},
   "outputs": [
    {
     "name": "stdout",
     "output_type": "stream",
     "text": [
      "3.162278e+07\n"
     ]
    }
   ],
   "source": [
    "print(\"{:e}\".format(getTime(M=10)))"
   ]
  },
  {
   "cell_type": "markdown",
   "metadata": {},
   "source": [
    "## Exercise 25"
   ]
  },
  {
   "cell_type": "code",
   "execution_count": 6,
   "metadata": {},
   "outputs": [],
   "source": [
    "def getMass(R0,T0):\n",
    "    R = 128000#km\n",
    "    T=1.4#days\n",
    "    \n",
    "    return ((R/R0)**3)*(T0/T)**2"
   ]
  },
  {
   "cell_type": "code",
   "execution_count": 7,
   "metadata": {},
   "outputs": [
    {
     "name": "stdout",
     "output_type": "stream",
     "text": [
      "Mass of uranus in earth masses: 13.7755102041\n"
     ]
    }
   ],
   "source": [
    "## sample\n",
    "R=42164 #km\n",
    "T=1#day\n",
    "\n",
    "muranus = getMass(R,T)\n",
    "print('Mass of uranus in earth masses: '+str(muranus))"
   ]
  },
  {
   "cell_type": "markdown",
   "metadata": {},
   "source": [
    "## Exercise 27"
   ]
  },
  {
   "cell_type": "code",
   "execution_count": 18,
   "metadata": {},
   "outputs": [
    {
     "name": "stdout",
     "output_type": "stream",
     "text": [
      "Roche Limit 8.143253e+04\n"
     ]
    }
   ],
   "source": [
    "#roche limit\n",
    "Mprimary = 2*2*10**27\n",
    "msat = 4*10**20\n",
    "Rm = 300\n",
    "\n",
    "droche = Rm *(2*Mprimary/msat)**(1./3)\n",
    "print(\"Roche Limit {:e}\".format(droche))"
   ]
  },
  {
   "cell_type": "markdown",
   "metadata": {},
   "source": [
    "## Exercise 28"
   ]
  },
  {
   "cell_type": "code",
   "execution_count": 27,
   "metadata": {},
   "outputs": [
    {
     "name": "stdout",
     "output_type": "stream",
     "text": [
      "Constant Jean MAss 9.328211e+04\n"
     ]
    }
   ],
   "source": [
    "Ms = 2*10**30 #kg\n",
    "\n",
    "\n",
    "alpha = (((5.*kb)/G)**(3./2))*np.sqrt(3./4/math.pi)*(Na**2)/Ms\n",
    "print(\"Constant Jean MAss {:e}\".format(alpha))"
   ]
  },
  {
   "cell_type": "code",
   "execution_count": 24,
   "metadata": {},
   "outputs": [],
   "source": [
    "## Exercise 29"
   ]
  },
  {
   "cell_type": "code",
   "execution_count": 32,
   "metadata": {},
   "outputs": [
    {
     "name": "stdout",
     "output_type": "stream",
     "text": [
      "Jean mass H 4.847081e+01\n",
      "Jean mass H2 1.211770e+01\n"
     ]
    }
   ],
   "source": [
    "n = 1e11\n",
    "T=30.\n",
    "\n",
    "exmass = alpha * (T**1.5)/np.sqrt(n)\n",
    "print('Jean mass H '+str(toSnot(exmass)))\n",
    "print('Jean mass H2 '+str(toSnot(0.25*exmass)))"
   ]
  },
  {
   "cell_type": "markdown",
   "metadata": {},
   "source": [
    "## Exercise 30"
   ]
  },
  {
   "cell_type": "code",
   "execution_count": 35,
   "metadata": {},
   "outputs": [
    {
     "name": "stdout",
     "output_type": "stream",
     "text": [
      "T min for collapse 2.639415e+01\n"
     ]
    }
   ],
   "source": [
    "a =0.25*alpha\n",
    "T_min = (n**(1./3))*(10./a)**(2./3)\n",
    "print('T min for collapse '+toSnot(T_min))"
   ]
  },
  {
   "cell_type": "code",
   "execution_count": 38,
   "metadata": {},
   "outputs": [
    {
     "data": {
      "image/png": "[encoded data removed]",
      "text/plain": [
       "<Figure size 432x288 with 1 Axes>"
      ]
     },
     "metadata": {
      "needs_background": "light"
     },
     "output_type": "display_data"
    }
   ],
   "source": [
    "n =1e11\n",
    "x= np.arange(0,50,0.1)\n",
    "\n",
    "y = [a * (t**1.5)/np.sqrt(n) for t in x]\n",
    "plt.figure()\n",
    "plt.plot(x,y)\n",
    "plt.axhline(y = 10, color = 'r', linestyle = '-')\n",
    "#plt.vlines(x = T_min,ymin=np.min(y),ymax=np.max(y), color = 'g')\n",
    "\n",
    "plt.xlabel('T in Kelvin')\n",
    "plt.ylabel('Jean Mass (solar masses)')\n",
    "plt.show()"
   ]
  },
  {
   "cell_type": "code",
   "execution_count": null,
   "metadata": {},
   "outputs": [],
   "source": []
  }
 ],
 "metadata": {
  "anaconda-cloud": {},
  "kernelspec": {
   "display_name": "envp37",
   "language": "python",
   "name": "envp37"
  },
  "language_info": {
   "codemirror_mode": {
    "name": "ipython",
    "version": 2
   },
   "file_extension": ".py",
   "mimetype": "text/x-python",
   "name": "python",
   "nbconvert_exporter": "python",
   "pygments_lexer": "ipython2",
   "version": "2.7.14"
  }
 },
 "nbformat": 4,
 "nbformat_minor": 1
}
